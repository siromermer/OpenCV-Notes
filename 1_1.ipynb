{
 "cells": [
  {
   "cell_type": "markdown",
   "id": "7c12cce3-631d-4573-8344-583e2484b17d",
   "metadata": {},
   "source": [
    "## Getting Started with Images"
   ]
  },
  {
   "cell_type": "code",
   "execution_count": 1,
   "id": "fbcb6bba-6928-42de-92e6-11f90462b935",
   "metadata": {},
   "outputs": [],
   "source": [
    "import cv2 \n",
    "import sys\n",
    "import numpy as np"
   ]
  },
  {
   "cell_type": "markdown",
   "id": "ae170bdc-d578-4f1b-94da-4b38e5dd9075",
   "metadata": {},
   "source": [
    "reading image --> cv2.imread(path , image_format)\n",
    "\n",
    "image_format :\n",
    "    1. IMREAD_COLOR  : deafult which is BGR 8-bit format\n",
    "    2. IMREAD_UNCHANGED : loads the image in its original format\n",
    "    3. IMREAD_GRAYSCALE : loads the image in gray scale\n"
   ]
  },
  {
   "cell_type": "code",
   "execution_count": 3,
   "id": "59ecc5f9-c1d3-4a9d-bbe5-0d083dd2305c",
   "metadata": {},
   "outputs": [],
   "source": [
    "# reading image\n",
    "image = cv2.imread(\"demo_image.jpg\")\n",
    "\n",
    "# check image is readed without problem\n",
    "if image is None:\n",
    "    sys.exit(\"cant read image \")\n",
    "\n",
    "# display image\n",
    "cv2.imshow(\"Display window\", image)\n",
    "\n",
    "# cv2.waitKey(0) will display the window infinitely until any keypress (it is suitable for image display).\n",
    "cv2.waitKey(0) \n",
    "\n",
    "cv2.destroyAllWindows()  # Close the window if ESC is pressed\n",
    "    "
   ]
  },
  {
   "cell_type": "code",
   "execution_count": null,
   "id": "e057b83f-5494-4ac1-b29d-77d1ca8e0042",
   "metadata": {},
   "outputs": [],
   "source": []
  },
  {
   "cell_type": "markdown",
   "id": "1d5f4bc4-10c7-4998-8603-d9f831f04bc4",
   "metadata": {},
   "source": [
    "## Getting Started with Videos"
   ]
  },
  {
   "cell_type": "markdown",
   "id": "1975bf93-a934-41ef-8c79-6c34f684deef",
   "metadata": {},
   "source": [
    "#### 1. Capture Video from Camera"
   ]
  },
  {
   "cell_type": "code",
   "execution_count": 9,
   "id": "16029038-b0f4-4bb4-868b-f2e775bb8ad7",
   "metadata": {},
   "outputs": [],
   "source": [
    "# create VideoCapture object , 0 is my webcam\n",
    "cap = cv2.VideoCapture(0) \n",
    "\n",
    "# check object is created without problem\n",
    "if not cap.isOpened():\n",
    "    print(\"Cannot open camera\")\n",
    "    exit()\n",
    "\n",
    "while True:\n",
    "    # read video\n",
    "    ret,frame=cap.read()\n",
    "\n",
    "    # check video can readed without problem\n",
    "    if not ret :\n",
    "        print(\" cant receive frame \")\n",
    "        break\n",
    "\n",
    "    #rgb_img=cv2.cvtColor(frame,cv2.COLOR_BGR2RGB)\n",
    "    gray_image=cv2.cvtColor(frame, cv2.COLOR_BGR2GRAY)\n",
    "    \n",
    "    # show frame\n",
    "    cv2.imshow(\"frame\",gray_image)\n",
    "\n",
    "    # if user press q break the loop\n",
    "    if cv2.waitKey(1)==ord(\"q\"):\n",
    "        break\n",
    "\n",
    "# when everything done, release the capture\n",
    "cap.release()\n",
    "cv2.destroyAllWindows()"
   ]
  },
  {
   "cell_type": "markdown",
   "id": "1d0878d4-36a7-48a7-b367-309312e7e66a",
   "metadata": {},
   "source": [
    "#### 2. Playing Video from File "
   ]
  },
  {
   "cell_type": "code",
   "execution_count": 12,
   "id": "bacf4414-1546-46a4-9a2d-885d41c08fde",
   "metadata": {},
   "outputs": [],
   "source": [
    "cap = cv2.VideoCapture(\"demo_video.mp4\")\n",
    "\n",
    "while cap.isOpened():\n",
    "    \n",
    "    ret, frame = cap.read()\n",
    "    \n",
    "    # if frame is read correctly ret is True\n",
    "    if not ret:\n",
    "        print(\"Can not  receive frame\")\n",
    "        break\n",
    "\n",
    "    # converting gray (not necessary)\n",
    "    gray = cv2.cvtColor(frame, cv2.COLOR_BGR2GRAY)\n",
    "    \n",
    "    cv2.imshow('frame', gray)\n",
    "    \n",
    "    if cv2.waitKey(1) == ord('q'):\n",
    "        break\n",
    "        \n",
    "cap.release()\n",
    "cv2.destroyAllWindows()"
   ]
  },
  {
   "cell_type": "markdown",
   "id": "cf7e641f-40c6-4d42-af6f-7d49efd8c831",
   "metadata": {},
   "source": [
    "#### 3. Saving Video"
   ]
  },
  {
   "cell_type": "markdown",
   "id": "a4b679e8-28ee-434f-99fc-d78938558ed2",
   "metadata": {},
   "source": [
    "for saving video create VideoWriter  object , parameters :\n",
    "    - output file name \n",
    "    - FourCC code (some kind of format )\n",
    "    - FPS\n",
    "    - isColor flag , if it is not true it is gray "
   ]
  },
  {
   "cell_type": "code",
   "execution_count": 21,
   "id": "43537a12-fed2-41aa-9ea4-3aaad07ec217",
   "metadata": {},
   "outputs": [],
   "source": [
    "cap=cv2.VideoCapture(0)\n",
    "\n",
    "# get height and width of your webcam records\n",
    "frame_width = int(cap.get(3))\n",
    "frame_height = int(cap.get(4))\n",
    "\n",
    "# create video writer object\n",
    "writer = cv2.VideoWriter(\"saved_video_demo1.mp4\",  \n",
    "                         cv2.VideoWriter_fourcc(*\"XVID\"), \n",
    "                         10, (frame_width,frame_height) )\n",
    "\n",
    "while cap.isOpened():\n",
    "    ret,frame=cap.read()\n",
    "\n",
    "    if not ret:\n",
    "        print(\"Can not  receive frame\")\n",
    "        break\n",
    "\n",
    "    writer.write(frame)\n",
    "\n",
    "    cv2.imshow('frame', frame)\n",
    "    \n",
    "    if cv2.waitKey(1) == ord('q'):\n",
    "        break\n",
    "\n",
    "# Release everything after pressing q\n",
    "writer.release()\n",
    "cap.release()\n",
    "cv2.destroyAllWindows()"
   ]
  },
  {
   "cell_type": "code",
   "execution_count": null,
   "id": "14e8aa6b-9d95-4974-b86c-7c7309b49b66",
   "metadata": {},
   "outputs": [],
   "source": []
  },
  {
   "cell_type": "markdown",
   "id": "48e28a62-c9e1-4e8e-9c67-0b6aebe2bfa0",
   "metadata": {},
   "source": [
    "## Drawing Functions in OpenCV"
   ]
  },
  {
   "cell_type": "code",
   "execution_count": 15,
   "id": "e676d542-84e8-4bd5-a3b8-bec1c825c4a5",
   "metadata": {
    "scrolled": true
   },
   "outputs": [],
   "source": [
    "# create black image\n",
    "image=np.zeros((512,512,3), np.uint8)\n",
    "\n",
    "# Draw a diagonal blue line with thickness of 8 px\n",
    "cv2.line(image,(0,0),(511,511),(255,0,0),8);\n",
    "cv2.rectangle(image,(300,0),(510,200), (0,255,0),3)\n",
    "\n",
    "font = cv2.FONT_HERSHEY_SIMPLEX\n",
    "cv2.putText(image,\"XANTARES\",(10,500), font, 2,(255,255,255),2,cv2.LINE_AA)\n",
    "\n",
    "cv2.imshow(\"image\",image)\n",
    "\n",
    "\n",
    "cv2.waitKey(0) \n",
    "cv2.destroyAllWindows()  # Close the window if ESC is pressed"
   ]
  },
  {
   "cell_type": "markdown",
   "id": "a5ccf3d0-8412-4f76-8abf-cbdd33ae8958",
   "metadata": {},
   "source": [
    "## Exercise"
   ]
  },
  {
   "cell_type": "markdown",
   "id": "53d6af03-1c2f-43be-a0e9-44c51905eaff",
   "metadata": {},
   "source": [
    "1. when user clicked right mouse draw circle to that point"
   ]
  },
  {
   "cell_type": "code",
   "execution_count": 20,
   "id": "ceef40b1-0343-4f91-9463-c573386fedb7",
   "metadata": {},
   "outputs": [],
   "source": [
    "\n",
    "image=cv2.imread(\"demo_image.jpg\")\n",
    "cv2.imshow(\"image\",image)\n",
    "\n",
    "\n",
    "def mouse_click(event, x, y,   flags, param):\n",
    "    if event==cv2.EVENT_LBUTTONDOWN:\n",
    "        cv2.circle(image,(x,y),10,(0,0,255))\n",
    "        cv2.imshow('image', image) \n",
    "    \n",
    "cv2.setMouseCallback('image', mouse_click) \n",
    "\n",
    "cv2.waitKey(0) \n",
    "  \n",
    "# close all the opened windows. \n",
    "cv2.destroyAllWindows() "
   ]
  },
  {
   "cell_type": "code",
   "execution_count": 23,
   "id": "ab9726a5-bf65-4b23-8533-9350e13ec6e5",
   "metadata": {},
   "outputs": [
    {
     "name": "stdout",
     "output_type": "stream",
     "text": [
      "['EVENT_FLAG_ALTKEY', 'EVENT_FLAG_CTRLKEY', 'EVENT_FLAG_LBUTTON', 'EVENT_FLAG_MBUTTON', 'EVENT_FLAG_RBUTTON', 'EVENT_FLAG_SHIFTKEY', 'EVENT_LBUTTONDBLCLK', 'EVENT_LBUTTONDOWN', 'EVENT_LBUTTONUP', 'EVENT_MBUTTONDBLCLK', 'EVENT_MBUTTONDOWN', 'EVENT_MBUTTONUP', 'EVENT_MOUSEHWHEEL', 'EVENT_MOUSEMOVE', 'EVENT_MOUSEWHEEL', 'EVENT_RBUTTONDBLCLK', 'EVENT_RBUTTONDOWN', 'EVENT_RBUTTONUP']\n"
     ]
    }
   ],
   "source": [
    "# all events \n",
    "events = [i for i in dir(cv2) if 'EVENT' in i]\n",
    "print( events )"
   ]
  },
  {
   "cell_type": "code",
   "execution_count": 48,
   "id": "cb309b47-4026-4b8c-964e-ca5eb73a1715",
   "metadata": {},
   "outputs": [],
   "source": [
    "import cv2\n",
    "\n",
    "image = cv2.imread(\"demo_image.jpg\")\n",
    "cv2.imshow(\"image\", image)\n",
    "\n",
    "\n",
    "def draw_rect(event, x, y, flags, param):\n",
    "    global finish_x, finish_y, start_x, start_y\n",
    "\n",
    "    if event == cv2.EVENT_LBUTTONDOWN:\n",
    "        start_x, start_y = x, y\n",
    "       \n",
    "    elif event == cv2.EVENT_MOUSEMOVE:\n",
    "        finish_x, finish_y = x, y\n",
    "\n",
    "    elif event == cv2.EVENT_LBUTTONUP:\n",
    "        cv2.rectangle(image, (start_x, start_y), (finish_x, finish_y), (100, 255, 0), 2)\n",
    "        cv2.imshow(\"image\", image)\n",
    "\n",
    "\n",
    "cv2.setMouseCallback('image', draw_rect)\n",
    "\n",
    "cv2.waitKey(0)\n",
    "\n",
    "# close all the opened windows.\n",
    "cv2.destroyAllWindows()\n"
   ]
  },
  {
   "cell_type": "code",
   "execution_count": null,
   "id": "2a48d9c7-8044-4cfa-b838-96ef4de9f3d4",
   "metadata": {},
   "outputs": [],
   "source": []
  },
  {
   "cell_type": "code",
   "execution_count": null,
   "id": "edb19e3c-ca3d-4514-945c-d48d87cc5eb4",
   "metadata": {},
   "outputs": [],
   "source": []
  },
  {
   "cell_type": "code",
   "execution_count": null,
   "id": "ea78896b-cf67-40ee-bf11-d62c3ef17a81",
   "metadata": {},
   "outputs": [],
   "source": []
  },
  {
   "cell_type": "code",
   "execution_count": null,
   "id": "c0aa047b-926f-4cfb-9965-4955c1b1788a",
   "metadata": {},
   "outputs": [],
   "source": []
  },
  {
   "cell_type": "code",
   "execution_count": null,
   "id": "468274c0-bbc2-4786-9e55-509cfa803678",
   "metadata": {},
   "outputs": [],
   "source": []
  },
  {
   "cell_type": "code",
   "execution_count": null,
   "id": "4e7c40da-14ec-428f-9712-d027ee508154",
   "metadata": {},
   "outputs": [],
   "source": []
  },
  {
   "cell_type": "code",
   "execution_count": null,
   "id": "11cbb49f-2b7d-413a-a6a3-07cab045fbff",
   "metadata": {},
   "outputs": [],
   "source": []
  }
 ],
 "metadata": {
  "kernelspec": {
   "display_name": "Python 3 (ipykernel)",
   "language": "python",
   "name": "python3"
  },
  "language_info": {
   "codemirror_mode": {
    "name": "ipython",
    "version": 3
   },
   "file_extension": ".py",
   "mimetype": "text/x-python",
   "name": "python",
   "nbconvert_exporter": "python",
   "pygments_lexer": "ipython3",
   "version": "3.10.0"
  }
 },
 "nbformat": 4,
 "nbformat_minor": 5
}
